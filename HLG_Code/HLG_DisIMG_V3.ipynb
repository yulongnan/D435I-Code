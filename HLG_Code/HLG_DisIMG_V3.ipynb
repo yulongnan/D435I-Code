{
 "cells": [
  {
   "cell_type": "markdown",
   "source": [
    "## 利用距离分割背景 == 生成分割后的图像"
   ],
   "metadata": {}
  },
  {
   "cell_type": "code",
   "execution_count": null,
   "source": [
    "# 文件导入\r\n",
    "import numpy as np \r\n",
    "import cv2 \r\n",
    "import os \r\n",
    "import matplotlib.pyplot as plt \r\n",
    "import time \r\n",
    "import os.path as osp "
   ],
   "outputs": [],
   "metadata": {}
  },
  {
   "cell_type": "code",
   "execution_count": null,
   "source": [
    "#===获得文件最大序号值===#\r\n",
    "def Get_IMG_SeqNum(root = './', img_suffix = '.npy', img_name_start = 'color', img_name_startnum = 5): \r\n",
    "    # root = './'  #指定目录 \r\n",
    "    Seq_num_Png = [] \r\n",
    "    for files in os.listdir(root): \r\n",
    "        if (os.path.splitext(files)[1]== img_suffix) & (os.path.splitext(files)[0][:img_name_startnum]==img_name_start):  \r\n",
    "            Seq_num_Png.append(int(os.path.splitext(files)[0][-6:])) \r\n",
    "    if len(Seq_num_Png)==0:  #列表为空 返回0  \r\n",
    "        Seq_num_Png.append(0) \r\n",
    "    return max(Seq_num_Png) \r\n",
    "# 实例 = 获取最大文件序号 \r\n",
    "Get_IMG_SeqNum(root =\"./Image_NPY2/NPY_color_depth/\")  "
   ],
   "outputs": [],
   "metadata": {}
  },
  {
   "cell_type": "code",
   "execution_count": null,
   "source": [
    "#===独立数据 = 处理环节===# \r\n",
    "# 分割距离设置   \r\n",
    "depth_scale = 0.0010000000474974513  \r\n",
    "clipping_distance_in_meters = 1       #1 meter  \r\n",
    "clipping_distance = clipping_distance_in_meters / depth_scale  \r\n",
    "\r\n",
    "\r\n",
    "Figure_NUM = Get_IMG_SeqNum(root =\"./Image_NPY/NPY_color_depth/\")  # 获取处理图片数量\r\n",
    "\r\n",
    "# Figure_NUM = 10\r\n",
    "\r\n",
    "for Seq_num in range(Figure_NUM + 1):   # 单个文件[1522, 1511] \r\n",
    "    Plantname = '_HLG' \r\n",
    "    str_Fig_CNT_Seq = Plantname + '_' + str(Seq_num).zfill(6)      # 含植物名称\r\n",
    "\r\n",
    "    Image_path2 = [\"./Image_NPY2/NPY_color_depth/\", \"./Image_NPY2/NPY_Infrared/\", \r\n",
    "                    \"./Image_IMG2/IMG_color_depth/\", \"./Image_IMG2/IMG_Infrared/\",\"./Image_IMG2/IMG_kcolor/\",\"./Image_IMG2/IMG_Con_color/\"] \r\n",
    "\r\n",
    "    # 检测路径是否存在，不存在跳过for循坏\r\n",
    "    color_image_pathis = os.path.isfile( path= Image_path2[0] + 'color' + str_Fig_CNT_Seq + '.npy' )\r\n",
    "    \r\n",
    "    if (color_image_pathis):\r\n",
    "        # 加载文件 \r\n",
    "        color_image_npy = np.load(file = Image_path2[0] +'color'+ str_Fig_CNT_Seq +'.npy')   # 加载npy文件 \r\n",
    "        deep_image_npy = np.load(file = Image_path2[0] +'depth'+ str_Fig_CNT_Seq +'.npy')    # 加载npy文件\r\n",
    "        deep_image_npy_cMAP = cv2.applyColorMap(cv2.convertScaleAbs(deep_image_npy, alpha=0.03), cv2.COLORMAP_JET) #伪彩图\r\n",
    "\r\n",
    "        # 背景去除 \r\n",
    "        deep_image_npy_3d = np.dstack((deep_image_npy, deep_image_npy, deep_image_npy)) \r\n",
    "        gray_color = np.ones_like(color_image_npy) * 153 \r\n",
    "        backg_remove = np.where( (deep_image_npy_3d > clipping_distance) | (deep_image_npy_3d < 0) , gray_color , color_image_npy ) \r\n",
    "\r\n",
    "        print('current image SeqNum:', str_Fig_CNT_Seq)\r\n",
    "\r\n",
    "        # if False:     #不使用\r\n",
    "        #     # 图像显示 \r\n",
    "        #     images = np.hstack((backg_remove, deep_image_npy_cMAP))            \r\n",
    "        #     images_plt = cv2.cvtColor(images, cv2.COLOR_BGR2RGB)               \r\n",
    "        #     plt.rcParams['figure.figsize'] = [16, 6]                         \r\n",
    "        #     plt.imshow(images_plt)                                          \r\n",
    "\r\n",
    "        # 图像保存\r\n",
    "        # cv2.imwrite( Image_path2[4] + 'kcolor' + str_Fig_CNT_Seq +'.jpg', backg_remove) #保存图像数据\r\n",
    "\r\n",
    "        # 对比图保存\r\n",
    "        images_contrast = np.hstack(( color_image_npy, backg_remove)) \r\n",
    "        cv2.imwrite( Image_path2[5] + 'Concolor' + str_Fig_CNT_Seq +'.jpg', images_contrast) #保存图像数据"
   ],
   "outputs": [],
   "metadata": {}
  },
  {
   "cell_type": "code",
   "execution_count": null,
   "source": [],
   "outputs": [],
   "metadata": {}
  },
  {
   "cell_type": "code",
   "execution_count": null,
   "source": [
    "#===创建的目录= 函数===#\r\n",
    "def mkdir(path):\r\n",
    "    import os      # 引入模块\r\n",
    "    isExists=os.path.exists(path) # 判断路径是否存在 #存在True  #不存在 False\r\n",
    "    if not isExists: # 判断结果\r\n",
    "        os.makedirs(path) # 创建目录操作函数\r\n",
    "        print (path +' 创建成功')\r\n",
    "        return True\r\n",
    "    else:  \r\n",
    "        print (path+' 目录已存在')# 如果目录存在则不创建，并提示目录已存在\r\n",
    "        return False\r\n",
    "\r\n",
    "if True:\r\n",
    "    # 定义要创建的目录2\r\n",
    "    Image_path2 = [\"./Image_NPY2/NPY_color_depth/\",  \"./Image_NPY2/NPY_Infrared/\", \r\n",
    "                \"./Image_IMG2/IMG_color_depth/\",  \"./Image_IMG2/IMG_Infrared/\", \"./Image_IMG2/IMG_kcolor\",\"./Image_IMG2/IMG_Con_color/\"]   \r\n",
    "    # 调用函数2\r\n",
    "    for path in Image_path2:\r\n",
    "        mkdir(path)"
   ],
   "outputs": [],
   "metadata": {}
  }
 ],
 "metadata": {
  "orig_nbformat": 4,
  "language_info": {
   "name": "python",
   "version": "3.7.10",
   "mimetype": "text/x-python",
   "codemirror_mode": {
    "name": "ipython",
    "version": 3
   },
   "pygments_lexer": "ipython3",
   "nbconvert_exporter": "python",
   "file_extension": ".py"
  },
  "kernelspec": {
   "name": "python3",
   "display_name": "Python 3.7.10 64-bit ('base': conda)"
  },
  "interpreter": {
   "hash": "b3ba2566441a7c06988d0923437866b63cedc61552a5af99d1f4fb67d367b25f"
  }
 },
 "nbformat": 4,
 "nbformat_minor": 2
}