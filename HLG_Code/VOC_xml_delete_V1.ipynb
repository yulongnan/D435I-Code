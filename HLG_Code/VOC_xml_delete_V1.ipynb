{
 "cells": [
  {
   "cell_type": "code",
   "execution_count": 2,
   "source": [
    "import os"
   ],
   "outputs": [],
   "metadata": {}
  },
  {
   "cell_type": "code",
   "execution_count": 10,
   "source": [
    "# 删除文件，可使用以下两种方法。# os.remove(path) #os.unlink(path)\r\n",
    "\r\n",
    "rootpath_XML = './VOC2007/Annotations_New1/'  \r\n",
    "front_name = 'RbRGB_pitaya_'\r\n",
    "name_list =[6,10,11,12,15,16,19,34,43,46,202,99,279,304]\r\n",
    "\r\n",
    "for num in name_list:                         #XML\r\n",
    "    path = os.path.join(rootpath_XML, front_name + str(num).zfill(6)+'.xml')\r\n",
    "    if os.path.exists(path):  # 如果文件存在\r\n",
    "        os.remove(path)      \r\n",
    "    else: \r\n",
    "        print('no such file', path)  # 则返回文件不存在\r\n",
    "\r\n",
    "rootpath_IMG = './VOC2007/JPEGImages_New1/'   #IMG\r\n",
    "for num in name_list:\r\n",
    "    path = os.path.join(rootpath_IMG, front_name + str(num).zfill(6)+'.jpg')\r\n",
    "    if os.path.exists(path):  # 如果文件存在\r\n",
    "        os.remove(path)      \r\n",
    "    else: \r\n",
    "        print('no such file', path)  # 则返回文件不存在\r\n",
    "\r\n"
   ],
   "outputs": [
    {
     "output_type": "stream",
     "name": "stdout",
     "text": [
      "no such file ./VOC2007/Annotations_New1/RbRGB_pitaya_000006.xml\n",
      "no such file ./VOC2007/Annotations_New1/RbRGB_pitaya_000010.xml\n",
      "no such file ./VOC2007/Annotations_New1/RbRGB_pitaya_000011.xml\n",
      "no such file ./VOC2007/Annotations_New1/RbRGB_pitaya_000012.xml\n",
      "no such file ./VOC2007/Annotations_New1/RbRGB_pitaya_000015.xml\n",
      "no such file ./VOC2007/Annotations_New1/RbRGB_pitaya_000016.xml\n",
      "no such file ./VOC2007/Annotations_New1/RbRGB_pitaya_000019.xml\n",
      "no such file ./VOC2007/Annotations_New1/RbRGB_pitaya_000034.xml\n",
      "no such file ./VOC2007/Annotations_New1/RbRGB_pitaya_000043.xml\n",
      "no such file ./VOC2007/Annotations_New1/RbRGB_pitaya_000046.xml\n",
      "no such file ./VOC2007/Annotations_New1/RbRGB_pitaya_000202.xml\n",
      "no such file ./VOC2007/Annotations_New1/RbRGB_pitaya_000099.xml\n",
      "no such file ./VOC2007/Annotations_New1/RbRGB_pitaya_000279.xml\n",
      "no such file ./VOC2007/Annotations_New1/RbRGB_pitaya_000304.xml\n",
      "no such file ./VOC2007/JPEGImages_New1/RbRGB_pitaya_000006.jpg\n",
      "no such file ./VOC2007/JPEGImages_New1/RbRGB_pitaya_000010.jpg\n",
      "no such file ./VOC2007/JPEGImages_New1/RbRGB_pitaya_000011.jpg\n",
      "no such file ./VOC2007/JPEGImages_New1/RbRGB_pitaya_000012.jpg\n",
      "no such file ./VOC2007/JPEGImages_New1/RbRGB_pitaya_000015.jpg\n",
      "no such file ./VOC2007/JPEGImages_New1/RbRGB_pitaya_000016.jpg\n",
      "no such file ./VOC2007/JPEGImages_New1/RbRGB_pitaya_000019.jpg\n",
      "no such file ./VOC2007/JPEGImages_New1/RbRGB_pitaya_000034.jpg\n",
      "no such file ./VOC2007/JPEGImages_New1/RbRGB_pitaya_000043.jpg\n",
      "no such file ./VOC2007/JPEGImages_New1/RbRGB_pitaya_000046.jpg\n",
      "no such file ./VOC2007/JPEGImages_New1/RbRGB_pitaya_000202.jpg\n",
      "no such file ./VOC2007/JPEGImages_New1/RbRGB_pitaya_000099.jpg\n",
      "no such file ./VOC2007/JPEGImages_New1/RbRGB_pitaya_000279.jpg\n",
      "no such file ./VOC2007/JPEGImages_New1/RbRGB_pitaya_000304.jpg\n"
     ]
    }
   ],
   "metadata": {}
  }
 ],
 "metadata": {
  "orig_nbformat": 4,
  "language_info": {
   "name": "python",
   "version": "3.7.10",
   "mimetype": "text/x-python",
   "codemirror_mode": {
    "name": "ipython",
    "version": 3
   },
   "pygments_lexer": "ipython3",
   "nbconvert_exporter": "python",
   "file_extension": ".py"
  },
  "kernelspec": {
   "name": "python3",
   "display_name": "Python 3.7.10 64-bit"
  },
  "interpreter": {
   "hash": "b3ba2566441a7c06988d0923437866b63cedc61552a5af99d1f4fb67d367b25f"
  }
 },
 "nbformat": 4,
 "nbformat_minor": 2
}