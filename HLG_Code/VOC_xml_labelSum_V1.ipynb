{
 "cells": [
  {
   "cell_type": "code",
   "execution_count": 1,
   "source": [
    "import os\r\n",
    "import xml.etree.ElementTree as ET\r\n",
    "import numpy as np\r\n",
    "# np.set_printoptions(suppress=True, threshold=np.nan)\r\n",
    "import matplotlib\r\n",
    "from PIL import Image"
   ],
   "outputs": [],
   "metadata": {}
  },
  {
   "cell_type": "code",
   "execution_count": 4,
   "source": [
    "def parse_obj(xml_path, filename):\r\n",
    "    tree=ET.parse(xml_path+filename)\r\n",
    "    objects=[]\r\n",
    "    for obj in tree.findall('object'):\r\n",
    "        obj_struct={}\r\n",
    "        obj_struct['name']=obj.find('name').text\r\n",
    "        objects.append(obj_struct)\r\n",
    "    return objects\r\n",
    " \r\n",
    " \r\n",
    "def read_image(image_path, filename):\r\n",
    "    im=Image.open(image_path+filename)\r\n",
    "    W=im.size[0]\r\n",
    "    H=im.size[1]\r\n",
    "    area=W*H\r\n",
    "    im_info=[W,H,area]\r\n",
    "    return im_info\r\n",
    " \r\n",
    " \r\n",
    "if __name__ == '__main__':\r\n",
    "    xml_path='./Annotations_Ori_Sort/'\r\n",
    "    filenamess=os.listdir(xml_path)\r\n",
    "    filenames=[]\r\n",
    "    for name in filenamess:\r\n",
    "        name=name.replace('.xml','')\r\n",
    "        filenames.append(name)\r\n",
    "    recs={}\r\n",
    "    obs_shape={}\r\n",
    "    classnames=[]\r\n",
    "    num_objs={}\r\n",
    "    obj_avg={}\r\n",
    "    for i,name in enumerate(filenames):\r\n",
    "        recs[name]=parse_obj(xml_path, name+ '.xml' )\r\n",
    "    for name in filenames:\r\n",
    "        for object in recs[name]:\r\n",
    "            if object['name'] not in num_objs.keys():\r\n",
    "                num_objs[object['name']]=1\r\n",
    "            else:\r\n",
    "                num_objs[object['name']]+=1\r\n",
    "            if object['name'] not in classnames:\r\n",
    "                classnames.append(object['name'])\r\n",
    "    for name in classnames:\r\n",
    "        print('{}:{}个'.format(name,num_objs[name]))\r\n",
    "    print('信息统计算完毕。')"
   ],
   "outputs": [
    {
     "output_type": "stream",
     "name": "stdout",
     "text": [
      "pitaya:4343个\n",
      "信息统计算完毕。\n"
     ]
    }
   ],
   "metadata": {}
  }
 ],
 "metadata": {
  "orig_nbformat": 4,
  "language_info": {
   "name": "python",
   "version": "3.7.10",
   "mimetype": "text/x-python",
   "codemirror_mode": {
    "name": "ipython",
    "version": 3
   },
   "pygments_lexer": "ipython3",
   "nbconvert_exporter": "python",
   "file_extension": ".py"
  },
  "kernelspec": {
   "name": "python3",
   "display_name": "Python 3.7.10 64-bit"
  },
  "interpreter": {
   "hash": "b3ba2566441a7c06988d0923437866b63cedc61552a5af99d1f4fb67d367b25f"
  }
 },
 "nbformat": 4,
 "nbformat_minor": 2
}